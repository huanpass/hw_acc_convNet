{
 "cells": [
  {
   "cell_type": "code",
   "execution_count": 5,
   "metadata": {
    "collapsed": false
   },
   "outputs": [],
   "source": [
    "import numpy as np\n",
    "import random\n",
    "from scipy import signal\n",
    "import fft_util as fft_util"
   ]
  },
  {
   "cell_type": "markdown",
   "metadata": {},
   "source": [
    "## 1-D convolution using 1-D FFT"
   ]
  },
  {
   "cell_type": "code",
   "execution_count": null,
   "metadata": {
    "collapsed": true
   },
   "outputs": [],
   "source": [
    "\"\"\"\n",
    "test the built-in 1-D conv\n",
    "\"\"\"\n",
    "x = np.array([1, 2, 3], dtype=float)\n",
    "y = np.array([5, -1, -9, 0, 1, 2, 6, 8, 12, 1], dtype=float)\n",
    "def test_builtin_conv():    \n",
    "    conv_result = np.convolve(y, x, \"full\")\n",
    "    print(conv_result.tolist())\n",
    "    "
   ]
  },
  {
   "cell_type": "code",
   "execution_count": null,
   "metadata": {
    "collapsed": false
   },
   "outputs": [],
   "source": [
    "if False:\n",
    "    test_builtin_conv()\n",
    "    x = np.array([1, 2, 3, 0, 0, 0, 0, 0, 0, 0, 0, 0], dtype=float)\n",
    "    print x\n",
    "    fftx = np.fft.fft(x)\n",
    "    print fftx.tolist()\n",
    "    y = np.array([5, -1, -9, 0, 1, 2, 6, 8, 12, 1, 0, 0], dtype=float)\n",
    "    ffty = np.fft.fft(y)\n",
    "    print ffty.tolist()\n",
    "    x_conv_y = np.round(np.fft.ifft(fftx * ffty).real)\n",
    "    print x_conv_y.tolist()"
   ]
  },
  {
   "cell_type": "code",
   "execution_count": null,
   "metadata": {
    "collapsed": false,
    "scrolled": false
   },
   "outputs": [],
   "source": [
    "if False:\n",
    "    x = [1, 5, 6, 8, 9]\n",
    "    y = [0, 1, 8, -2, -5]\n",
    "    output_length = fft_util.find_ceil_power_of_two(len(x) + len(y) - 1)\n",
    "    # we need to zero padding first, very important\n",
    "    x_array = np.array(fft_util.zero_padding(x, output_length))\n",
    "    y_array = np.array(fft_util.zero_padding(y, output_length))\n",
    "    conv_result = np.convolve(x_array, y_array, \"full\")\n",
    "    conv_fft_result = np.fft.ifft(np.fft.fft(x_array) * np.fft.fft(y_array)).real\n",
    "    print \"conv result: \" , conv_result.tolist()\n",
    "    print \"fft conv result: \", np.round(conv_fft_result).tolist()"
   ]
  },
  {
   "cell_type": "markdown",
   "metadata": {
    "collapsed": false
   },
   "source": [
    "## 2D-convolution using 2D-FFT"
   ]
  },
  {
   "cell_type": "code",
   "execution_count": null,
   "metadata": {
    "collapsed": false
   },
   "outputs": [],
   "source": [
    "h = (np.random.rand(3, 3) - 0.5) * 20   # renormalize to zero-center and have a maximum of 20\n",
    "print h, h.shape"
   ]
  },
  {
   "cell_type": "code",
   "execution_count": null,
   "metadata": {
    "collapsed": true
   },
   "outputs": [],
   "source": [
    "x = (np.random.rand(32, 32) - 0.5) * 20"
   ]
  },
  {
   "cell_type": "code",
   "execution_count": null,
   "metadata": {
    "collapsed": false
   },
   "outputs": [],
   "source": [
    "conv_result = signal.convolve2d(x, h)\n",
    "print conv_result.shape"
   ]
  },
  {
   "cell_type": "code",
   "execution_count": null,
   "metadata": {
    "collapsed": false
   },
   "outputs": [],
   "source": [
    "h_pad = np.lib.pad(h, ((0, 31), (0, 31)), 'constant', constant_values=(0))\n",
    "print h_pad.shape"
   ]
  },
  {
   "cell_type": "code",
   "execution_count": null,
   "metadata": {
    "collapsed": false
   },
   "outputs": [],
   "source": [
    "x_pad = np.lib.pad(x, ((0, 2), (0, 2)), 'constant', constant_values=(0))\n",
    "print x_pad.shape"
   ]
  },
  {
   "cell_type": "code",
   "execution_count": null,
   "metadata": {
    "collapsed": true
   },
   "outputs": [],
   "source": [
    "h_fft2 = np.fft.fft2(h_pad)\n",
    "x_fft2 = np.fft.fft2(x_pad)\n",
    "conv_fft2_result = np.fft.ifft2(h_fft2 * x_fft2)"
   ]
  },
  {
   "cell_type": "code",
   "execution_count": null,
   "metadata": {
    "collapsed": false
   },
   "outputs": [],
   "source": [
    "print sum(sum(np.round(conv_fft2_result.real - conv_result)))"
   ]
  },
  {
   "cell_type": "code",
   "execution_count": null,
   "metadata": {
    "collapsed": false
   },
   "outputs": [],
   "source": [
    "if False:\n",
    "    x = (np.random.rand(1, 8) - 0.5) * 20\n",
    "    my_fft_result = fft_util.eight_point_fft(sum(x.tolist(), []))\n",
    "    built_in_fft_result = np.fft.fft(x).tolist()\n",
    "    print \"my:\", my_fft_result\n",
    "    print \"\"\n",
    "    print \"built-in:\", built_in_fft_result"
   ]
  },
  {
   "cell_type": "code",
   "execution_count": null,
   "metadata": {
    "collapsed": false
   },
   "outputs": [],
   "source": [
    "if False:\n",
    "    x = (np.random.rand(1, 3) - 0.5) * 20\n",
    "    my_ifft_result = fft_util.eight_point_ifft(sum(x.tolist(), []))\n",
    "    built_in_ifft_result = np.fft.ifft(x, 8).tolist()\n",
    "    print \"my:\", my_ifft_result\n",
    "    print \"\"\n",
    "    print \"built-in:\", built_in_ifft_result"
   ]
  },
  {
   "cell_type": "code",
   "execution_count": 16,
   "metadata": {
    "collapsed": false
   },
   "outputs": [
    {
     "name": "stdout",
     "output_type": "stream",
     "text": [
      "All tests passed.\n"
     ]
    }
   ],
   "source": [
    "times = 20\n",
    "if True:\n",
    "    i = 0\n",
    "    while i < times:\n",
    "        h = np.ravel((np.random.rand(1, random.randint(1, 7)) - 0.5) * 20)\n",
    "        x = np.ravel((np.random.rand(1, random.randint(30, 37)) - 0.5) * 20)\n",
    "        my_conv_result = np.array(fft_util.convolutionOverlapAndAdd(x.tolist(), h.tolist())).real\n",
    "        built_in_conv_result = np.convolve(x, h, \"full\")\n",
    "        if not np.allclose(my_conv_result, built_in_conv_result):\n",
    "            print \"Test\", i, \"fails\"\n",
    "        i += 1\n",
    "    if i == 20:\n",
    "        print \"All tests passed.\""
   ]
  },
  {
   "cell_type": "code",
   "execution_count": null,
   "metadata": {
    "collapsed": true
   },
   "outputs": [],
   "source": []
  }
 ],
 "metadata": {
  "kernelspec": {
   "display_name": "Python 2",
   "language": "python",
   "name": "python2"
  },
  "language_info": {
   "codemirror_mode": {
    "name": "ipython",
    "version": 2
   },
   "file_extension": ".py",
   "mimetype": "text/x-python",
   "name": "python",
   "nbconvert_exporter": "python",
   "pygments_lexer": "ipython2",
   "version": "2.7.11"
  }
 },
 "nbformat": 4,
 "nbformat_minor": 0
}
