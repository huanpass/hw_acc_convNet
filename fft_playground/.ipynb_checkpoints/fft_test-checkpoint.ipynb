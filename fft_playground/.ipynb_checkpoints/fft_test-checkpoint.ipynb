{
 "cells": [
  {
   "cell_type": "code",
   "execution_count": 1,
   "metadata": {
    "collapsed": true
   },
   "outputs": [],
   "source": [
    "import numpy as np\n",
    "import fft_util as fft_util"
   ]
  },
  {
   "cell_type": "code",
   "execution_count": 2,
   "metadata": {
    "collapsed": true
   },
   "outputs": [],
   "source": [
    "\"\"\"\n",
    "test the built-in 1-D conv\n",
    "\"\"\"\n",
    "x = np.array([1, 2, 3], dtype=float)\n",
    "y = np.array([5, -1, -9, 0, 1, 2, 6, 8, 12, 1], dtype=float)\n",
    "def test_builtin_conv():    \n",
    "    conv_result = np.convolve(y, x, \"full\")\n",
    "    print(conv_result.tolist())\n",
    "    "
   ]
  },
  {
   "cell_type": "code",
   "execution_count": 3,
   "metadata": {
    "collapsed": false
   },
   "outputs": [],
   "source": [
    "if False:\n",
    "    test_builtin_conv()\n",
    "    x = np.array([1, 2, 3, 0, 0, 0, 0, 0, 0, 0, 0, 0], dtype=float)\n",
    "    fftx = np.fft.fft(x)\n",
    "    print fftx.tolist()\n",
    "    y = np.array([5, -1, -9, 0, 1, 2, 6, 8, 12, 1, 0, 0], dtype=float)\n",
    "    ffty = np.fft.fft(y)\n",
    "    print ffty.tolist()\n",
    "    x_conv_y = np.round(np.fft.ifft(fftx * ffty).real)\n",
    "    print x_conv_y.tolist()"
   ]
  },
  {
   "cell_type": "code",
   "execution_count": 7,
   "metadata": {
    "collapsed": false,
    "scrolled": false
   },
   "outputs": [
    {
     "name": "stdout",
     "output_type": "stream",
     "text": [
      "conv result:  [0, 1, 13, 44, 41, 36, 26, -58, -45, 0, 0, 0, 0, 0, 0, 0, 0, 0, 0, 0, 0, 0, 0, 0, 0, 0, 0, 0, 0, 0, 0]\n",
      "fft conv result:  [0.0, 1.0, 13.0, 44.0, 41.0, 36.0, 26.0, -58.0, -45.0, -0.0, 0.0, 0.0, 0.0, 0.0, 0.0, 0.0]\n"
     ]
    }
   ],
   "source": [
    "if True:\n",
    "    x = [1, 5, 6, 8, 9]\n",
    "    y = [0, 1, 8, -2, -5]\n",
    "    output_length = fft_util.find_ceil_power_of_two(len(x) + len(y) - 1)\n",
    "    # we need to zero padding first, very important\n",
    "    x_array = np.array(fft_util.zero_padding(x, output_length))\n",
    "    y_array = np.array(fft_util.zero_padding(y, output_length))\n",
    "    conv_result = np.convolve(x_array, y_array, \"full\")\n",
    "    conv_fft_result = np.fft.ifft(np.fft.fft(x_array) * np.fft.fft(y_array)).real\n",
    "    print \"conv result: \" , conv_result.tolist()\n",
    "    print \"fft conv result: \", np.round(conv_fft_result).tolist()"
   ]
  },
  {
   "cell_type": "code",
   "execution_count": null,
   "metadata": {
    "collapsed": false
   },
   "outputs": [],
   "source": []
  },
  {
   "cell_type": "code",
   "execution_count": null,
   "metadata": {
    "collapsed": false
   },
   "outputs": [],
   "source": []
  },
  {
   "cell_type": "code",
   "execution_count": null,
   "metadata": {
    "collapsed": true
   },
   "outputs": [],
   "source": []
  }
 ],
 "metadata": {
  "kernelspec": {
   "display_name": "Python 2",
   "language": "python",
   "name": "python2"
  },
  "language_info": {
   "codemirror_mode": {
    "name": "ipython",
    "version": 2
   },
   "file_extension": ".py",
   "mimetype": "text/x-python",
   "name": "python",
   "nbconvert_exporter": "python",
   "pygments_lexer": "ipython2",
   "version": "2.7.11"
  }
 },
 "nbformat": 4,
 "nbformat_minor": 0
}
