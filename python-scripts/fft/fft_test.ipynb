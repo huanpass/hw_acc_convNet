{
 "cells": [
  {
   "cell_type": "code",
   "execution_count": 1,
   "metadata": {
    "collapsed": false
   },
   "outputs": [
    {
     "ename": "ImportError",
     "evalue": "No module named fft_util",
     "traceback": [
      "\u001b[0;31m---------------------------------------------------------------------------\u001b[0m",
      "\u001b[0;31mImportError\u001b[0m                               Traceback (most recent call last)",
      "\u001b[0;32m<ipython-input-1-21c98aab4e76>\u001b[0m in \u001b[0;36m<module>\u001b[0;34m()\u001b[0m\n\u001b[1;32m      2\u001b[0m \u001b[0;32mimport\u001b[0m \u001b[0mrandom\u001b[0m\u001b[0;34m\u001b[0m\u001b[0m\n\u001b[1;32m      3\u001b[0m \u001b[0;32mfrom\u001b[0m \u001b[0mscipy\u001b[0m \u001b[0;32mimport\u001b[0m \u001b[0msignal\u001b[0m\u001b[0;34m\u001b[0m\u001b[0m\n\u001b[0;32m----> 4\u001b[0;31m \u001b[0;32mimport\u001b[0m \u001b[0mfft_util\u001b[0m \u001b[0;32mas\u001b[0m \u001b[0mfft_util\u001b[0m\u001b[0;34m\u001b[0m\u001b[0m\n\u001b[0m",
      "\u001b[0;31mImportError\u001b[0m: No module named fft_util"
     ],
     "output_type": "error"
    }
   ],
   "source": [
    "import numpy as np\n",
    "import random\n",
    "from scipy import signal\n",
    "import fft_util as fft_util"
   ]
  },
  {
   "cell_type": "markdown",
   "metadata": {},
   "source": [
    "## 1-D convolution using 1-D FFT"
   ]
  },
  {
   "cell_type": "code",
   "execution_count": null,
   "metadata": {
    "collapsed": true
   },
   "outputs": [],
   "source": [
    "\"\"\"\n",
    "test the built-in 1-D conv\n",
    "\"\"\"\n",
    "x = np.array([1, 2, 3], dtype=float)\n",
    "y = np.array([5, -1, -9, 0, 1, 2, 6, 8, 12, 1], dtype=float)\n",
    "def test_builtin_conv():    \n",
    "    conv_result = np.convolve(y, x, \"full\")\n",
    "    print(conv_result.tolist())"
   ]
  },
  {
   "cell_type": "code",
   "execution_count": null,
   "metadata": {
    "collapsed": false
   },
   "outputs": [],
   "source": [
    "if False:\n",
    "    test_builtin_conv()\n",
    "    x = np.array([1, 2, 3, 0, 0, 0, 0, 0, 0, 0, 0, 0], dtype=float)\n",
    "    print x\n",
    "    fftx = np.fft.fft(x)\n",
    "    print fftx.tolist()\n",
    "    y = np.array([5, -1, -9, 0, 1, 2, 6, 8, 12, 1, 0, 0], dtype=float)\n",
    "    ffty = np.fft.fft(y)\n",
    "    print ffty.tolist()\n",
    "    x_conv_y = np.round(np.fft.ifft(fftx * ffty).real)\n",
    "    print x_conv_y.tolist()"
   ]
  },
  {
   "cell_type": "code",
   "execution_count": null,
   "metadata": {
    "collapsed": false,
    "scrolled": false
   },
   "outputs": [],
   "source": [
    "if False:\n",
    "    x = [1, 5, 6, 8, 9]\n",
    "    y = [0, 1, 8, -2, -5]\n",
    "    output_length = fft_util.find_ceil_power_of_two(len(x) + len(y) - 1)\n",
    "    # we need to zero padding first, very important\n",
    "    x_array = np.array(fft_util.zero_padding(x, output_length))\n",
    "    y_array = np.array(fft_util.zero_padding(y, output_length))\n",
    "    conv_result = np.convolve(x_array, y_array, \"full\")\n",
    "    conv_fft_result = np.fft.ifft(np.fft.fft(x_array) * np.fft.fft(y_array)).real\n",
    "    print \"conv result: \" , conv_result.tolist()\n",
    "    print \"fft conv result: \", np.round(conv_fft_result).tolist()"
   ]
  },
  {
   "cell_type": "markdown",
   "metadata": {
    "collapsed": false
   },
   "source": [
    "## 2D-convolution using 2D-FFT"
   ]
  },
  {
   "cell_type": "code",
   "execution_count": null,
   "metadata": {
    "collapsed": false
   },
   "outputs": [],
   "source": [
    "h = (np.random.rand(3, 3) - 0.5) * 20   # renormalize to zero-center and have a maximum of 20\n",
    "print h, h.shape"
   ]
  },
  {
   "cell_type": "code",
   "execution_count": null,
   "metadata": {
    "collapsed": true
   },
   "outputs": [],
   "source": [
    "x = (np.random.rand(32, 32) - 0.5) * 20"
   ]
  },
  {
   "cell_type": "code",
   "execution_count": null,
   "metadata": {
    "collapsed": false
   },
   "outputs": [],
   "source": [
    "conv_result = signal.convolve2d(x, h)\n",
    "print conv_result.shape"
   ]
  },
  {
   "cell_type": "code",
   "execution_count": null,
   "metadata": {
    "collapsed": false
   },
   "outputs": [],
   "source": [
    "h_pad = np.lib.pad(h, ((0, 31), (0, 31)), 'constant', constant_values=(0))\n",
    "print h_pad.shape"
   ]
  },
  {
   "cell_type": "code",
   "execution_count": null,
   "metadata": {
    "collapsed": false
   },
   "outputs": [],
   "source": [
    "x_pad = np.lib.pad(x, ((0, 2), (0, 2)), 'constant', constant_values=(0))\n",
    "print x_pad.shape"
   ]
  },
  {
   "cell_type": "code",
   "execution_count": null,
   "metadata": {
    "collapsed": true
   },
   "outputs": [],
   "source": [
    "h_fft2 = np.fft.fft2(h_pad)\n",
    "x_fft2 = np.fft.fft2(x_pad)\n",
    "conv_fft2_result = np.fft.ifft2(h_fft2 * x_fft2)"
   ]
  },
  {
   "cell_type": "code",
   "execution_count": null,
   "metadata": {
    "collapsed": false
   },
   "outputs": [],
   "source": [
    "print sum(sum(np.round(conv_fft2_result.real - conv_result)))"
   ]
  },
  {
   "cell_type": "code",
   "execution_count": 14,
   "metadata": {
    "collapsed": false
   },
   "outputs": [
    {
     "name": "stdout",
     "output_type": "stream",
     "text": [
      "my: [(-14.63256954226361+0j), (15.162156277771835-13.624936027358025j), (-3.373603936676327+23.778287509851392j), (5.075587978714485+21.3527198866666j), (10.086934489033204+0j), (5.075587978714489-21.3527198866666j), (-3.373603936676324-23.778287509851392j), (15.162156277771832+13.624936027358025j)]\n",
      "\n",
      "built-in: [[(-14.63256954226361+0j), (15.162156277771835-13.624936027358029j), (-3.3736039366763255+23.778287509851392j), (5.075587978714485+21.352719886666595j), (10.086934489033204+0j)]]\n"
     ]
    }
   ],
   "source": [
    "if True:\n",
    "    x = (np.random.rand(1, 8) - 0.5) * 20\n",
    "    my_fft_result = fft_util.eight_point_fft(sum(x.tolist(), []))\n",
    "    built_in_fft_result = np.fft.rfft(x).tolist()\n",
    "    print \"my:\", my_fft_result\n",
    "    print \"\"\n",
    "    print \"built-in:\", built_in_fft_result"
   ]
  },
  {
   "cell_type": "code",
   "execution_count": 28,
   "metadata": {
    "collapsed": false
   },
   "outputs": [
    {
     "name": "stdout",
     "output_type": "stream",
     "text": [
      "Original: [-9.50172995  1.47837926  4.31938183 -1.1042411  -6.65598485 -1.30123972\n",
      " -3.49652091 -2.90526095] \n",
      "\n",
      "my: [  7.65141978e+00  -7.91958248e+00  -8.79945141e+00  -3.14018492e-16\n",
      "   0.00000000e+00   0.00000000e+00   0.00000000e+00   3.14018492e-16] \n",
      "\n",
      "built-in: [[  7.65141978e+00  -7.91958248e+00  -8.79945141e+00  -1.44328993e-15\n",
      "   -4.44089210e-16   0.00000000e+00   0.00000000e+00   1.44328993e-15]]\n",
      "True\n"
     ]
    }
   ],
   "source": [
    "if True:\n",
    "    x = np.ravel((np.random.rand(1, 8) - 0.5) * 20)\n",
    "    print \"Original:\", x, \"\\n\"\n",
    "    my_result = np.array(fft_util.eight_point_ifft(fft_util.eight_point_fft(x.tolist()))).real\n",
    "    built_in_result = np.fft.irfft(np.fft.rfft(x, 8)).real\n",
    "    if True:\n",
    "        print \"my:\", my_ifft_result, \"\\n\"\n",
    "        print \"built-in:\", built_in_ifft_result\n",
    "    print np.allclose(my_result, built_in_result)"
   ]
  },
  {
   "cell_type": "code",
   "execution_count": 3,
   "metadata": {
    "collapsed": false
   },
   "outputs": [
    {
     "name": "stdout",
     "output_type": "stream",
     "text": [
      "All tests passed.\n"
     ]
    }
   ],
   "source": [
    "# test the correctness of my conv\n",
    "times = 20\n",
    "if True:\n",
    "    i = 0\n",
    "    while i < times:\n",
    "        h = np.ravel((np.random.rand(1, random.randint(1, 7)) - 0.5) * 20)\n",
    "        x = np.ravel((np.random.rand(1, random.randint(30, 37)) - 0.5) * 20)\n",
    "        my_conv_result = np.array(fft_util.convolutionOverlapAndAdd(x.tolist(), h.tolist())).real\n",
    "        built_in_conv_result = np.convolve(x, h, \"full\")\n",
    "        if not np.allclose(my_conv_result, built_in_conv_result):\n",
    "            print \"Test\", i, \"fails\"\n",
    "        i += 1\n",
    "    if i == times:\n",
    "        print \"All tests passed.\""
   ]
  },
  {
   "cell_type": "code",
   "execution_count": 12,
   "metadata": {
    "collapsed": false
   },
   "outputs": [
    {
     "name": "stdout",
     "output_type": "stream",
     "text": [
      "CPU times: user 2.63 s, sys: 9.91 ms, total: 2.64 s\n",
      "Wall time: 2.66 s\n"
     ]
    }
   ],
   "source": [
    "%%time\n",
    "times = 1000\n",
    "if True:\n",
    "    i = 0\n",
    "    while i < times:\n",
    "        h = np.ravel((np.random.rand(1, 3) - 0.5) * 20)\n",
    "        x = np.ravel((np.random.rand(1, 224) - 0.5) * 20)\n",
    "        my_conv_result = np.array(fft_util.convolutionOverlapAndAdd(x.tolist(), h.tolist())).real\n",
    "        i += 1"
   ]
  },
  {
   "cell_type": "code",
   "execution_count": 6,
   "metadata": {
    "collapsed": false
   },
   "outputs": [
    {
     "name": "stdout",
     "output_type": "stream",
     "text": [
      "CPU times: user 19.4 ms, sys: 990 µs, total: 20.4 ms\n",
      "Wall time: 19.5 ms\n"
     ]
    }
   ],
   "source": [
    "%%time\n",
    "times = 1000\n",
    "if True:\n",
    "    i = 0\n",
    "    while i < times:\n",
    "        h = (np.random.rand(3) - 0.5) * 20\n",
    "        x = (np.random.rand(224) - 0.5) * 20\n",
    "        built_in_conv_result = np.convolve(x, h, \"full\")\n",
    "        i += 1"
   ]
  },
  {
   "cell_type": "code",
   "execution_count": 11,
   "metadata": {
    "collapsed": false
   },
   "outputs": [
    {
     "name": "stdout",
     "output_type": "stream",
     "text": [
      "[ 0.63359142  0.12746162  0.46327662  0.77718777  0.01415376]\n",
      "[  6.33591419e-01   1.27461616e-01   4.63276618e-01   7.77187774e-01\n",
      "   1.41537636e-02   9.71445147e-17   0.00000000e+00  -5.55111512e-17]\n"
     ]
    }
   ],
   "source": [
    "x = np.random.rand(5)\n",
    "y = np.fft.ifft(np.fft.fft(x, 8)).real\n",
    "print x\n",
    "print y"
   ]
  },
  {
   "cell_type": "code",
   "execution_count": null,
   "metadata": {
    "collapsed": true
   },
   "outputs": [],
   "source": [
    ""
   ]
  }
 ],
 "metadata": {
  "kernelspec": {
   "display_name": "Python 2",
   "language": "python",
   "name": "python2"
  },
  "language_info": {
   "codemirror_mode": {
    "name": "ipython",
    "version": 2.0
   },
   "file_extension": ".py",
   "mimetype": "text/x-python",
   "name": "python",
   "nbconvert_exporter": "python",
   "pygments_lexer": "ipython2",
   "version": "2.7.11"
  }
 },
 "nbformat": 4,
 "nbformat_minor": 0
}